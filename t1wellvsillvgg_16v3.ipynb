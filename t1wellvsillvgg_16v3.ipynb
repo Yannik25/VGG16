{
  "nbformat": 4,
  "nbformat_minor": 0,
  "metadata": {
    "accelerator": "GPU",
    "colab": {
      "name": "t1wellvsillvgg_16v3.ipynb",
      "provenance": [],
      "collapsed_sections": []
    },
    "kernelspec": {
      "display_name": "Python 3",
      "language": "python",
      "name": "python3"
    },
    "language_info": {
      "codemirror_mode": {
        "name": "ipython",
        "version": 3
      },
      "file_extension": ".py",
      "mimetype": "text/x-python",
      "name": "python",
      "nbconvert_exporter": "python",
      "pygments_lexer": "ipython3",
      "version": "3.7.9"
    }
  },
  "cells": [
    {
      "cell_type": "code",
      "metadata": {
        "colab": {
          "base_uri": "https://localhost:8080/"
        },
        "id": "0Een5e77huOx",
        "scrolled": true,
        "outputId": "ba6565cf-565f-4222-d32d-26cfefc9d082"
      },
      "source": [
        "import numpy as np       # import numpy zum Matrizen und Vektor rechnen\n",
        "import tensorflow as tf  # keras zu tensorflow importieren\n",
        "import cv2               # import opencv\n",
        "import matplotlib.pyplot as plt # plt ermöglicht Graphen und Bilder auszugeben\n",
        "\n",
        "from tensorflow.keras.models import Sequential # import Sequentielles Keras Modell\n",
        "from tensorflow.keras.layers import Dense, Conv2D, MaxPool2D, Flatten # import von verschiedenen Layerarten\n",
        "from tensorflow.keras.preprocessing.image import ImageDataGenerator\n",
        "from tensorflow.keras.optimizers import SGD # Optimierer\n",
        "from tensorflow.keras.callbacks import ModelCheckpoint, EarlyStopping\n",
        "from tensorflow.keras.preprocessing import image\n",
        "from tensorflow.keras.models import load_model  # von keras datasets, layers und modelle importieren\n",
        "from IPython.display import Image # um Bilder darzustellen\n",
        "from tensorflow.keras.applications import imagenet_utils # \n",
        "from sklearn.metrics import confusion_matrix\n",
        "import itertools\n",
        "\n",
        "print(\"import done\")\n",
        "\n",
        "physical_devices = tf.config.experimental.list_physical_devices('GPU') # zum auslesen ob eine GPU verbaut ist\n",
        "print(\"Num GPUs Available: \", len(physical_devices)) # Anzahl GPUs ausgeben\n",
        "tf.config.experimental.set_memory_growth(physical_devices[0], True) # Tensorflow auf diese GPU einstellen"
      ],
      "execution_count": 2,
      "outputs": [
        {
          "output_type": "stream",
          "text": [
            "import done\n",
            "Num GPUs Available:  1\n"
          ],
          "name": "stdout"
        }
      ]
    },
    {
      "cell_type": "code",
      "metadata": {
        "id": "s-d1sSuKh6qy",
        "colab": {
          "base_uri": "https://localhost:8080/"
        },
        "outputId": "60ee1b2e-f88f-416d-b066-4f410ab27358"
      },
      "source": [
        "model = Sequential()  # Sequentielles Modell, when 1 Input und 1 Output\n",
        "\n",
        "# ersten 2 Conv Layer. Erster Conv Layer bekommt die Bildgröße\n",
        "model.add(Conv2D(input_shape = (224, 224, 3), filters = 64, kernel_size = (3,3), padding = \"same\", activation = \"relu\"))\n",
        "model.add(Conv2D(filters = 64, kernel_size = (3,3), padding = \"same\", activation = \"relu\"))\n",
        "\n",
        "model.add(MaxPool2D(pool_size = (2,2), strides = (2,2)))  # pooling mit filtergröße 2x2 und strides (x+2,y+2)\n",
        "\n",
        "model.add(Conv2D(filters = 128, kernel_size = (3,3), padding = \"same\", activation = \"relu\"))\n",
        "model.add(Conv2D(filters = 128, kernel_size = (3,3), padding = \"same\", activation = \"relu\"))\n",
        "\n",
        "model.add(MaxPool2D(pool_size = (2,2), strides = (2,2))) \n",
        "\n",
        "model.add(Conv2D(filters = 256, kernel_size = (3,3), padding = \"same\", activation = \"relu\"))\n",
        "model.add(Conv2D(filters = 256, kernel_size = (3,3), padding = \"same\", activation = \"relu\"))\n",
        "model.add(Conv2D(filters = 256, kernel_size = (3,3), padding = \"same\", activation = \"relu\"))\n",
        "\n",
        "model.add(MaxPool2D(pool_size = (2,2), strides = (2,2)))\n",
        "\n",
        "model.add(Conv2D(filters = 512, kernel_size = (3,3), padding = \"same\", activation = \"relu\"))\n",
        "model.add(Conv2D(filters = 512, kernel_size = (3,3), padding = \"same\", activation = \"relu\"))\n",
        "model.add(Conv2D(filters = 512, kernel_size = (3,3), padding = \"same\", activation = \"relu\"))\n",
        "\n",
        "model.add(MaxPool2D(pool_size = (2,2), strides = (2,2)))\n",
        "\n",
        "model.add(Conv2D(filters = 512, kernel_size = (3,3), padding = \"same\", activation = \"relu\"))\n",
        "model.add(Conv2D(filters = 512, kernel_size = (3,3), padding = \"same\", activation = \"relu\"))\n",
        "model.add(Conv2D(filters = 512, kernel_size = (3,3), padding = \"same\", activation = \"relu\"))\n",
        "\n",
        "model.add(MaxPool2D(pool_size = (2,2), strides = (2,2)))\n",
        "\n",
        "# Dense und Softmax Layer\n",
        "model.add(Flatten())\n",
        "model.add(Dense(units = 4096, activation = \"relu\"))\n",
        "model.add(Dense(units = 4096, activation = \"relu\"))\n",
        "model.add(Dense(units = 2, activation = \"softmax\")) #sigmoid\n",
        "\n",
        "opt = SGD(lr = 0.001) #z.B. SGD oder ADAM # optimierer Learning Rate = 0.001 , zwischen 0.01 - 0.0001 -> kleinere Schritte um zum minimalen Loss zu kommen\n",
        "model.compile(optimizer = opt, loss= tf.keras.losses.categorical_crossentropy, metrics = ['accuracy']) # Accuracy berechnet wie of Vorhersage = Label #categorical_crossentropy\n",
        "model.summary()"
      ],
      "execution_count": 18,
      "outputs": [
        {
          "output_type": "stream",
          "text": [
            "Model: \"sequential_1\"\n",
            "_________________________________________________________________\n",
            "Layer (type)                 Output Shape              Param #   \n",
            "=================================================================\n",
            "conv2d_13 (Conv2D)           (None, 224, 224, 64)      1792      \n",
            "_________________________________________________________________\n",
            "conv2d_14 (Conv2D)           (None, 224, 224, 64)      36928     \n",
            "_________________________________________________________________\n",
            "max_pooling2d_5 (MaxPooling2 (None, 112, 112, 64)      0         \n",
            "_________________________________________________________________\n",
            "conv2d_15 (Conv2D)           (None, 112, 112, 128)     73856     \n",
            "_________________________________________________________________\n",
            "conv2d_16 (Conv2D)           (None, 112, 112, 128)     147584    \n",
            "_________________________________________________________________\n",
            "max_pooling2d_6 (MaxPooling2 (None, 56, 56, 128)       0         \n",
            "_________________________________________________________________\n",
            "conv2d_17 (Conv2D)           (None, 56, 56, 256)       295168    \n",
            "_________________________________________________________________\n",
            "conv2d_18 (Conv2D)           (None, 56, 56, 256)       590080    \n",
            "_________________________________________________________________\n",
            "conv2d_19 (Conv2D)           (None, 56, 56, 256)       590080    \n",
            "_________________________________________________________________\n",
            "max_pooling2d_7 (MaxPooling2 (None, 28, 28, 256)       0         \n",
            "_________________________________________________________________\n",
            "conv2d_20 (Conv2D)           (None, 28, 28, 512)       1180160   \n",
            "_________________________________________________________________\n",
            "conv2d_21 (Conv2D)           (None, 28, 28, 512)       2359808   \n",
            "_________________________________________________________________\n",
            "conv2d_22 (Conv2D)           (None, 28, 28, 512)       2359808   \n",
            "_________________________________________________________________\n",
            "max_pooling2d_8 (MaxPooling2 (None, 14, 14, 512)       0         \n",
            "_________________________________________________________________\n",
            "conv2d_23 (Conv2D)           (None, 14, 14, 512)       2359808   \n",
            "_________________________________________________________________\n",
            "conv2d_24 (Conv2D)           (None, 14, 14, 512)       2359808   \n",
            "_________________________________________________________________\n",
            "conv2d_25 (Conv2D)           (None, 14, 14, 512)       2359808   \n",
            "_________________________________________________________________\n",
            "max_pooling2d_9 (MaxPooling2 (None, 7, 7, 512)         0         \n",
            "_________________________________________________________________\n",
            "flatten_1 (Flatten)          (None, 25088)             0         \n",
            "_________________________________________________________________\n",
            "dense_3 (Dense)              (None, 4096)              102764544 \n",
            "_________________________________________________________________\n",
            "dense_4 (Dense)              (None, 4096)              16781312  \n",
            "_________________________________________________________________\n",
            "dense_5 (Dense)              (None, 2)                 8194      \n",
            "=================================================================\n",
            "Total params: 134,268,738\n",
            "Trainable params: 134,268,738\n",
            "Non-trainable params: 0\n",
            "_________________________________________________________________\n"
          ],
          "name": "stdout"
        }
      ]
    },
    {
      "cell_type": "code",
      "metadata": {
        "id": "3-fHa5A8obx2",
        "colab": {
          "base_uri": "https://localhost:8080/"
        },
        "outputId": "60944ef6-8e64-40f5-df49-e43ae93fc343"
      },
      "source": [
        "!unzip /content/10kBilderv4.zip\n",
        "\n",
        "trdata = ImageDataGenerator()\n",
        "traindata = trdata.flow_from_directory(directory=\"/content/10kBilderv4/train\",target_size=(224,224),classes=['gesund', 'krank'],class_mode='categorical') # class_mode default: categorical\n",
        "valdata = ImageDataGenerator()\n",
        "validationdata = valdata.flow_from_directory(directory=\"/content/10kBilderv4/validation\", target_size=(224,224),classes=['gesund', 'krank'],class_mode='categorical')\n",
        "tst1data = ImageDataGenerator()\n",
        "testt1data = tst1data.flow_from_directory(directory=\"/content/10kBilderv4/testT1\",target_size=(224,224),classes=['gesund', 'krank'],class_mode='categorical',shuffle=False)\n",
        "tst2data = ImageDataGenerator()\n",
        "testt2data = tst2data.flow_from_directory(directory=\"/content/10kBilderv4/testT2\",target_size=(224,224),classes=['gesund', 'krank'],class_mode='categorical',shuffle=False)\n",
        "\n",
        "ptr=traindata.class_indices\n",
        "print(ptr)\n",
        "pva=validationdata.class_indices\n",
        "print(pva)\n",
        "ptet1=testt1data.class_indices\n",
        "print(ptet1)\n",
        "ptet2=testt2data.class_indices\n",
        "print(ptet2)"
      ],
      "execution_count": 5,
      "outputs": [
        {
          "output_type": "stream",
          "text": [
            "Archive:  /content/10kBilderv4.zip\n",
            "replace 10kBilderv4/testT1/gesund/T1T2_16012021_GesundMiriYannik.m? [y]es, [n]o, [A]ll, [N]one, [r]ename: N\n",
            "Found 20000 images belonging to 2 classes.\n",
            "Found 20000 images belonging to 2 classes.\n",
            "Found 200 images belonging to 2 classes.\n",
            "Found 200 images belonging to 2 classes.\n",
            "{'gesund': 0, 'krank': 1}\n",
            "{'gesund': 0, 'krank': 1}\n",
            "{'gesund': 0, 'krank': 1}\n",
            "{'gesund': 0, 'krank': 1}\n"
          ],
          "name": "stdout"
        }
      ]
    },
    {
      "cell_type": "code",
      "metadata": {
        "id": "xio6gRCtoqSm",
        "scrolled": false,
        "colab": {
          "base_uri": "https://localhost:8080/"
        },
        "outputId": "53403497-c6e2-45cf-e2e3-8b68dc1a3402"
      },
      "source": [
        "checkpoint = tf.keras.callbacks.ModelCheckpoint(\"weight10kBilderv4.h5\",\n",
        "                                                monitor=\"val_accuracy\",\n",
        "                                                verbose = 1,\n",
        "                                                save_best_only = True,\n",
        "                                                save_weights_only = False,\n",
        "                                                mode= \"auto\",\n",
        "                                                save_freq= \"epoch\",\n",
        "                                                options=None)\n",
        "\n",
        "early = EarlyStopping(monitor='val_accuracy',\n",
        "                      min_delta=0,\n",
        "                      patience=50,\n",
        "                      verbose=1,\n",
        "                      mode='auto')\n",
        "\n",
        "hist = model.fit(x=traindata,\n",
        "                          steps_per_epoch = 625,\n",
        "                          epochs = 15,\n",
        "                          batch_size = 32,\n",
        "                          validation_data = validationdata,\n",
        "                          validation_steps = 15,\n",
        "                          callbacks = [checkpoint,early])\n",
        "\n",
        "model.save('model10kBilderv4.h5')"
      ],
      "execution_count": 21,
      "outputs": [
        {
          "output_type": "stream",
          "text": [
            "Epoch 1/15\n",
            "625/625 [==============================] - 535s 833ms/step - loss: 0.6953 - accuracy: 0.4965 - val_loss: 0.6949 - val_accuracy: 0.4979\n",
            "\n",
            "Epoch 00001: val_accuracy improved from -inf to 0.49792, saving model to weight10kBilderv4.h5\n",
            "Epoch 2/15\n",
            "625/625 [==============================] - 522s 836ms/step - loss: 0.6925 - accuracy: 0.5144 - val_loss: 0.6925 - val_accuracy: 0.5146\n",
            "\n",
            "Epoch 00002: val_accuracy improved from 0.49792 to 0.51458, saving model to weight10kBilderv4.h5\n",
            "Epoch 3/15\n",
            "625/625 [==============================] - 522s 835ms/step - loss: 0.6900 - accuracy: 0.5321 - val_loss: 0.6910 - val_accuracy: 0.5229\n",
            "\n",
            "Epoch 00003: val_accuracy improved from 0.51458 to 0.52292, saving model to weight10kBilderv4.h5\n",
            "Epoch 4/15\n",
            "625/625 [==============================] - 522s 835ms/step - loss: 0.6877 - accuracy: 0.5445 - val_loss: 0.6851 - val_accuracy: 0.5583\n",
            "\n",
            "Epoch 00004: val_accuracy improved from 0.52292 to 0.55833, saving model to weight10kBilderv4.h5\n",
            "Epoch 5/15\n",
            "625/625 [==============================] - 521s 834ms/step - loss: 0.6831 - accuracy: 0.5637 - val_loss: 0.6759 - val_accuracy: 0.5854\n",
            "\n",
            "Epoch 00005: val_accuracy improved from 0.55833 to 0.58542, saving model to weight10kBilderv4.h5\n",
            "Epoch 6/15\n",
            "625/625 [==============================] - 522s 836ms/step - loss: 0.6744 - accuracy: 0.5858 - val_loss: 0.6664 - val_accuracy: 0.6125\n",
            "\n",
            "Epoch 00006: val_accuracy improved from 0.58542 to 0.61250, saving model to weight10kBilderv4.h5\n",
            "Epoch 7/15\n",
            "625/625 [==============================] - 522s 835ms/step - loss: 0.6581 - accuracy: 0.6113 - val_loss: 0.6358 - val_accuracy: 0.6333\n",
            "\n",
            "Epoch 00007: val_accuracy improved from 0.61250 to 0.63333, saving model to weight10kBilderv4.h5\n",
            "Epoch 8/15\n",
            "625/625 [==============================] - 522s 835ms/step - loss: 0.6233 - accuracy: 0.6434 - val_loss: 0.6406 - val_accuracy: 0.6146\n",
            "\n",
            "Epoch 00008: val_accuracy did not improve from 0.63333\n",
            "Epoch 9/15\n",
            "625/625 [==============================] - 521s 833ms/step - loss: 0.5264 - accuracy: 0.7303 - val_loss: 0.4139 - val_accuracy: 0.7958\n",
            "\n",
            "Epoch 00009: val_accuracy improved from 0.63333 to 0.79583, saving model to weight10kBilderv4.h5\n",
            "Epoch 10/15\n",
            "625/625 [==============================] - 522s 836ms/step - loss: 0.4049 - accuracy: 0.8142 - val_loss: 0.2870 - val_accuracy: 0.8708\n",
            "\n",
            "Epoch 00010: val_accuracy improved from 0.79583 to 0.87083, saving model to weight10kBilderv4.h5\n",
            "Epoch 11/15\n",
            "625/625 [==============================] - 522s 836ms/step - loss: 0.3088 - accuracy: 0.8637 - val_loss: 0.2743 - val_accuracy: 0.8917\n",
            "\n",
            "Epoch 00011: val_accuracy improved from 0.87083 to 0.89167, saving model to weight10kBilderv4.h5\n",
            "Epoch 12/15\n",
            "625/625 [==============================] - 522s 836ms/step - loss: 0.2370 - accuracy: 0.9033 - val_loss: 0.1944 - val_accuracy: 0.9271\n",
            "\n",
            "Epoch 00012: val_accuracy improved from 0.89167 to 0.92708, saving model to weight10kBilderv4.h5\n",
            "Epoch 13/15\n",
            "625/625 [==============================] - 522s 836ms/step - loss: 0.1723 - accuracy: 0.9309 - val_loss: 0.1448 - val_accuracy: 0.9479\n",
            "\n",
            "Epoch 00013: val_accuracy improved from 0.92708 to 0.94792, saving model to weight10kBilderv4.h5\n",
            "Epoch 14/15\n",
            "625/625 [==============================] - 525s 840ms/step - loss: 0.1349 - accuracy: 0.9493 - val_loss: 0.1660 - val_accuracy: 0.9229\n",
            "\n",
            "Epoch 00014: val_accuracy did not improve from 0.94792\n",
            "Epoch 15/15\n",
            "625/625 [==============================] - 522s 835ms/step - loss: 0.1181 - accuracy: 0.9563 - val_loss: 0.1318 - val_accuracy: 0.9563\n",
            "\n",
            "Epoch 00015: val_accuracy improved from 0.94792 to 0.95625, saving model to weight10kBilderv4.h5\n"
          ],
          "name": "stdout"
        }
      ]
    },
    {
      "cell_type": "code",
      "metadata": {
        "id": "OnAeWFAVa94n",
        "scrolled": true,
        "colab": {
          "base_uri": "https://localhost:8080/",
          "height": 315
        },
        "outputId": "4ce8f611-4cea-4f36-8f17-a98fb499bf78"
      },
      "source": [
        "plt.plot(hist.history['loss'])\n",
        "plt.plot(hist.history['val_loss'])\n",
        "plt.title('Model Loss')\n",
        "plt.ylabel('loss')\n",
        "plt.xlabel('epoch')\n",
        "plt.legend(['training', 'validation'], loc='upper right')\n",
        "plt.show()"
      ],
      "execution_count": 22,
      "outputs": [
        {
          "output_type": "display_data",
          "data": {
            "image/png": "[encoded data removed]",
            "text/plain": [
              "<Figure size 432x288 with 1 Axes>"
            ]
          },
          "metadata": {
            "tags": [],
            "needs_background": "light"
          }
        }
      ]
    },
    {
      "cell_type": "code",
      "metadata": {
        "id": "oXxVZEZV3cLb",
        "colab": {
          "base_uri": "https://localhost:8080/",
          "height": 315
        },
        "outputId": "d9729011-0ff1-41c7-edd2-eabcd26bf0f8"
      },
      "source": [
        "plt.plot(hist.history['accuracy'])\n",
        "plt.plot(hist.history['val_accuracy'])\n",
        "plt.title('Model Accuracy')\n",
        "plt.ylabel('accuracy')\n",
        "plt.xlabel('epoch')\n",
        "plt.legend(['training', 'validation'], loc='lower right')\n",
        "plt.show()"
      ],
      "execution_count": 23,
      "outputs": [
        {
          "output_type": "display_data",
          "data": {
            "image/png": "[encoded data removed]",
            "text/plain": [
              "<Figure size 432x288 with 1 Axes>"
            ]
          },
          "metadata": {
            "tags": [],
            "needs_background": "light"
          }
        }
      ]
    },
    {
      "cell_type": "code",
      "metadata": {
        "id": "qsczassYa94o"
      },
      "source": [
        "img = image.load_img(\"/content/10kBilderv4/testT1/gesund/T1_10.jpg\",target_size=(224,224))\n",
        "\n",
        "img = np.asarray(img)\n",
        "plt.imshow(img)\n",
        "img = np.expand_dims(img, axis=0)\n",
        "saved_model = load_model(\"weight10kBilderv4.h5\")\n",
        "output = saved_model.predict(img)\n",
        "print(output)\n",
        "if output[0][0] > output[0][1]:\n",
        "    print(\"gesund\")\n",
        "else:\n",
        "    print('krank')"
      ],
      "execution_count": null,
      "outputs": []
    },
    {
      "cell_type": "code",
      "metadata": {
        "id": "euphYcD1qOD-"
      },
      "source": [
        "picturefile=\"10kBilderv4\"\n",
        "testcount = 100\n",
        "savefile = open(\"/content/werte.csv\",'w+')\n",
        "\n",
        "\n",
        "testpicture = \"T1\"\n",
        "\n",
        "savefile.write(\"Ergebnisse von \" + testpicture + \" gesund: \\n\")\n",
        "\n",
        "for i in range(1, testcount+1):\n",
        "    print (i)\n",
        "    img = image.load_img(\"/content/\" + picturefile + \"/test\" + testpicture + \"/gesund/\" + testpicture + \"_\" + str(i) + \".jpg\",target_size=(224,224))\n",
        "    img = np.asarray(img)\n",
        "    #plt.imshow(img)\n",
        "    img = np.expand_dims(img, axis=0)\n",
        "    saved_model = load_model(\"/content/weight\" + picturefile + \".h5\")\n",
        "    output = saved_model.predict(img)\n",
        "    print(output)\n",
        "    if output[0][0] > output[0][1]:\n",
        "        print(\"gesund\")\n",
        "        ergebnis=\"gesund\"\n",
        "        match = 1\n",
        "    else:\n",
        "        print('krank')\n",
        "        ergebnis=\"krank\"\n",
        "        match = 0\n",
        "    savefile.write(str(i) + \"; original : ;\" + testpicture + \" gesund ; test ergibt: ;\" + ergebnis + \" ; richtig: ; \" + str(match) + \" ; Wahrscheinlichkeit: ;\" + str(saved_model.predict(img)) + \"\\n\")\n",
        "\n",
        "savefile.write(\"Ergebnisse von \" + testpicture + \" krank: \\n\")\n",
        "\n",
        "for i in range(1, testcount+1):\n",
        "    print (i)\n",
        "    img = image.load_img(\"/content/\" + picturefile + \"/test\" + testpicture + \"/krank/\" + testpicture + \"_\" + str(i) + \".jpg\",target_size=(224,224))\n",
        "    img = np.asarray(img)\n",
        "    #plt.imshow(img)\n",
        "    img = np.expand_dims(img, axis=0)\n",
        "    saved_model = load_model(\"/content/weight\" + picturefile + \".h5\")\n",
        "    output = saved_model.predict(img)\n",
        "    print(output)\n",
        "    if output[0][0] > output[0][1]:\n",
        "        print(\"gesund\")\n",
        "        ergebnis=\"gesund\"\n",
        "        match = 0\n",
        "    else:\n",
        "        print('krank')\n",
        "        ergebnis=\"krank\"\n",
        "        match = 1\n",
        "    savefile.write(str(i) + \"; original : ;\" + testpicture + \" krank ; test ergibt: ;\" + ergebnis + \" ; richtig: ; \" + str(match) + \" ; Wahrscheinlichkeit: ;\" + str(saved_model.predict(img)) + \"\\n\")\n",
        "\n",
        "\n",
        "testpicture = \"T2\"\n",
        "\n",
        "savefile.write(\"Ergebnisse von \" + testpicture + \" gesund: \\n\")\n",
        "\n",
        "for i in range(1, testcount+1):\n",
        "    print (i)\n",
        "    img = image.load_img(\"/content/\" + picturefile + \"/test\" + testpicture + \"/gesund/\" + testpicture + \"_\" + str(i) + \".jpg\",target_size=(224,224))\n",
        "    img = np.asarray(img)\n",
        "    #plt.imshow(img)\n",
        "    img = np.expand_dims(img, axis=0)\n",
        "    saved_model = load_model(\"/content/weight\" + picturefile + \".h5\")\n",
        "    output = saved_model.predict(img)\n",
        "    print(output)\n",
        "    if output[0][0] > output[0][1]:\n",
        "        print(\"gesund\")\n",
        "        ergebnis=\"gesund\"\n",
        "        match = 1\n",
        "    else:\n",
        "        print('krank')\n",
        "        ergebnis=\"krank\"\n",
        "        match = 0\n",
        "    savefile.write(str(i) + \"; original : ;\" + testpicture + \" gesund ; test ergibt: ;\" + ergebnis + \" ; richtig: ; \" + str(match) + \" ; Wahrscheinlichkeit: ;\" + str(saved_model.predict(img)) + \"\\n\")\n",
        "\n",
        "savefile.write(\"Ergebnisse von \" + testpicture + \" krank: \\n\")\n",
        "\n",
        "for i in range(1, testcount+1):\n",
        "    print (i)\n",
        "    img = image.load_img(\"/content/\" + picturefile + \"/test\" + testpicture + \"/krank/\" + testpicture + \"_\" + str(i) + \".jpg\",target_size=(224,224))\n",
        "    img = np.asarray(img)\n",
        "    #plt.imshow(img)\n",
        "    img = np.expand_dims(img, axis=0)\n",
        "    saved_model = load_model(\"/content/weight\" + picturefile + \".h5\")\n",
        "    output = saved_model.predict(img)\n",
        "    print(output)\n",
        "    if output[0][0] > output[0][1]:\n",
        "        print(\"gesund\")\n",
        "        ergebnis=\"gesund\"\n",
        "        match = 0\n",
        "    else:\n",
        "        print('krank')\n",
        "        ergebnis=\"krank\"\n",
        "        match = 1\n",
        "    savefile.write(str(i) + \"; original : ;\" + testpicture + \" krank ; test ergibt: ;\" + ergebnis + \" ; richtig: ; \" + str(match) + \" ; Wahrscheinlichkeit: ;\" + str(saved_model.predict(img)) + \"\\n\")\n",
        "\n",
        "savefile.close()"
      ],
      "execution_count": null,
      "outputs": []
    },
    {
      "cell_type": "code",
      "metadata": {
        "colab": {
          "base_uri": "https://localhost:8080/",
          "height": 398
        },
        "id": "c2rY1_s1Kd_N",
        "outputId": "61e5546d-3743-4dec-d9ea-7287773a4e02"
      },
      "source": [
        "model = load_model(\"/content/weight10kBilderv4.h5\")\n",
        "\n",
        "batch_size = 10\n",
        "num_of_test_samples = 200\n",
        "\n",
        "predictions = model.predict(testt1data,  num_of_test_samples // batch_size+1)\n",
        "\n",
        "rounded_predictions = np.argmax(predictions, axis=-1)\n",
        "\n",
        "true_classes = testt1data.classes\n",
        "\n",
        "class_labels = list(testt1data.class_indices.keys())   \n",
        "\n",
        "cm = confusion_matrix(testt1data.classes, y_pred=rounded_predictions)\n",
        "\n",
        "def plot_confusion_matrix(cm, classes,\n",
        "                        normalize=False,\n",
        "                        title='Confusion matrix',\n",
        "                        cmap=plt.cm.Blues):\n",
        "    \"\"\"\n",
        "    This function prints and plots the confusion matrix.\n",
        "    Normalization can be applied by setting `normalize=True`.\n",
        "    \"\"\"\n",
        "    plt.imshow(cm, interpolation='nearest', cmap=cmap)\n",
        "    plt.title(title)\n",
        "    plt.colorbar()\n",
        "    tick_marks = np.arange(len(classes))\n",
        "    plt.xticks(tick_marks, classes, rotation=45)\n",
        "    plt.yticks(tick_marks, classes)\n",
        "\n",
        "    if normalize:\n",
        "        cm = cm.astype('float') / cm.sum(axis=1)[:, np.newaxis]\n",
        "        print(\"Normalized confusion matrix\")\n",
        "    else:\n",
        "        print('Confusion matrix, without normalization')\n",
        "\n",
        "    print(cm)\n",
        "\n",
        "    thresh = cm.max() / 2.\n",
        "    for i, j in itertools.product(range(cm.shape[0]), range(cm.shape[1])):\n",
        "        plt.text(j, i, cm[i, j],\n",
        "            horizontalalignment=\"center\",\n",
        "            color=\"white\" if cm[i, j] > thresh else \"black\") #TODO\n",
        "\n",
        "    plt.tight_layout()\n",
        "    plt.ylabel('True label')\n",
        "    plt.xlabel('Predicted label')\n",
        "\n",
        "cm_plot_labels = ['gesund','krank']\n",
        "\n",
        "plot_confusion_matrix(cm=cm, classes=cm_plot_labels, title='Confusion Matrix')"
      ],
      "execution_count": 6,
      "outputs": [
        {
          "output_type": "stream",
          "text": [
            "WARNING:tensorflow:6 out of the last 11 calls to <function Model.make_predict_function.<locals>.predict_function at 0x7f6cf366c268> triggered tf.function retracing. Tracing is expensive and the excessive number of tracings could be due to (1) creating @tf.function repeatedly in a loop, (2) passing tensors with different shapes, (3) passing Python objects instead of tensors. For (1), please define your @tf.function outside of the loop. For (2), @tf.function has experimental_relax_shapes=True option that relaxes argument shapes that can avoid unnecessary retracing. For (3), please refer to https://www.tensorflow.org/guide/function#controlling_retracing and https://www.tensorflow.org/api_docs/python/tf/function for  more details.\n",
            "Confusion matrix, without normalization\n",
            "[[98  2]\n",
            " [ 8 92]]\n"
          ],
          "name": "stdout"
        },
        {
          "output_type": "display_data",
          "data": {
            "image/png": "[encoded data removed]",
            "text/plain": [
              "<Figure size 432x288 with 2 Axes>"
            ]
          },
          "metadata": {
            "tags": [],
            "needs_background": "light"
          }
        }
      ]
    },
    {
      "cell_type": "code",
      "metadata": {
        "colab": {
          "base_uri": "https://localhost:8080/",
          "height": 381
        },
        "id": "Bg3z4Y7QFl5I",
        "outputId": "eef3b8a5-d253-4087-faa8-0dc5f7c077d5"
      },
      "source": [
        "model = load_model(\"/content/weight10kBilderv4.h5\")\n",
        "\n",
        "batch_size = 10\n",
        "num_of_test_samples = 200\n",
        "\n",
        "predictions = model.predict(testt2data,  num_of_test_samples // batch_size+1)\n",
        "\n",
        "rounded_predictions = np.argmax(predictions, axis=-1)\n",
        "\n",
        "true_classes = testt2data.classes\n",
        "\n",
        "class_labels = list(testt2data.class_indices.keys())   \n",
        "\n",
        "cm = confusion_matrix(testt2data.classes, y_pred=rounded_predictions)\n",
        "\n",
        "def plot_confusion_matrix(cm, classes,\n",
        "                        normalize=False,\n",
        "                        title='Confusion matrix',\n",
        "                        cmap=plt.cm.Blues):\n",
        "    \"\"\"\n",
        "    This function prints and plots the confusion matrix.\n",
        "    Normalization can be applied by setting `normalize=True`.\n",
        "    \"\"\"\n",
        "    plt.imshow(cm, interpolation='nearest', cmap=cmap)\n",
        "    plt.title(title)\n",
        "    plt.colorbar()\n",
        "    tick_marks = np.arange(len(classes))\n",
        "    plt.xticks(tick_marks, classes, rotation=45)\n",
        "    plt.yticks(tick_marks, classes)\n",
        "\n",
        "    if normalize:\n",
        "        cm = cm.astype('float') / cm.sum(axis=1)[:, np.newaxis]\n",
        "        print(\"Normalized confusion matrix\")\n",
        "    else:\n",
        "        print('Confusion matrix, without normalization')\n",
        "\n",
        "    print(cm)\n",
        "\n",
        "    thresh = cm.max() / 2.\n",
        "    for i, j in itertools.product(range(cm.shape[0]), range(cm.shape[1])):\n",
        "        plt.text(j, i, cm[i, j],\n",
        "            horizontalalignment=\"center\",\n",
        "            color=\"white\" if cm[i, j] > thresh else \"black\") #TODO\n",
        "\n",
        "    plt.tight_layout()\n",
        "    plt.ylabel('True label')\n",
        "    plt.xlabel('Predicted label')\n",
        "\n",
        "cm_plot_labels = ['gesund','krank']\n",
        "\n",
        "plot_confusion_matrix(cm=cm, classes=cm_plot_labels, title='Confusion Matrix')"
      ],
      "execution_count": 14,
      "outputs": [
        {
          "output_type": "stream",
          "text": [
            "Confusion matrix, without normalization\n",
            "[[56 44]\n",
            " [13 87]]\n"
          ],
          "name": "stdout"
        },
        {
          "output_type": "display_data",
          "data": {
            "image/png": "[encoded data removed]",
            "text/plain": [
              "<Figure size 432x288 with 2 Axes>"
            ]
          },
          "metadata": {
            "tags": [],
            "needs_background": "light"
          }
        }
      ]
    }
  ]
}